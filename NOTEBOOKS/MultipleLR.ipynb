{
 "cells": [
  {
   "cell_type": "code",
   "execution_count": 18,
   "metadata": {},
   "outputs": [
    {
     "name": "stderr",
     "output_type": "stream",
     "text": [
      "C:\\Users\\manj4269\\AppData\\Local\\Continuum\\anaconda3\\lib\\site-packages\\sklearn\\preprocessing\\_encoders.py:368: FutureWarning: The handling of integer data will change in version 0.22. Currently, the categories are determined based on the range [0, max(values)], while in the future they will be determined based on the unique values.\n",
      "If you want the future behaviour and silence this warning, you can specify \"categories='auto'\".\n",
      "In case you used a LabelEncoder before this OneHotEncoder to convert the categories to integers, then you can now use the OneHotEncoder directly.\n",
      "  warnings.warn(msg, FutureWarning)\n",
      "C:\\Users\\manj4269\\AppData\\Local\\Continuum\\anaconda3\\lib\\site-packages\\sklearn\\preprocessing\\_encoders.py:390: DeprecationWarning: The 'categorical_features' keyword is deprecated in version 0.20 and will be removed in 0.22. You can use the ColumnTransformer instead.\n",
      "  \"use the ColumnTransformer instead.\", DeprecationWarning)\n"
     ]
    }
   ],
   "source": [
    "#Data Preparation\n",
    "#We will now import some required libraries\n",
    "\n",
    "import numpy as np\n",
    "import matplotlib.pyplot as plt\n",
    "import pandas as pd\n",
    "\n",
    "dataset = pd.read_csv('employee.csv')\n",
    "\n",
    "X = dataset.iloc[:,:-1].values\n",
    "y = dataset.iloc[:,4].values\n",
    "\n",
    "#Dealing with categorical variables\n",
    "from sklearn.preprocessing import LabelEncoder, OneHotEncoder\n",
    "labelencoder_X = LabelEncoder()\n",
    "X[:,0] = labelencoder_X.fit_transform(X[:,0])\n",
    "onehotencoder = OneHotEncoder(categorical_features=[0])\n",
    "X = onehotencoder.fit_transform(X).toarray()\n",
    "\n",
    "# Removing the extra dummy variable\n",
    "X = X[:, 1:]\n",
    "\n",
    "\n",
    "#Splitting the data into Training Set and Test Set\n",
    "from sklearn.model_selection import train_test_split\n",
    "X_train, X_test, y_train, y_test = train_test_split(X,y,test_size=0.2)\n",
    "\n",
    "#Normalizing the features\n",
    "#from sklearn.preprocessing import StandardScaler\n",
    "#sc_X = StandardScaler()\n",
    "#X_train = sc_X.fit_transform(X_train)\n",
    "#X_test = sc_X.transform(X_test)\n",
    "\n",
    "#Fitting Multiple Linear Regression to Training Set\n",
    "from sklearn.linear_model import LinearRegression\n",
    "mlrObj = LinearRegression()\n",
    "mlrObj.fit(X_train,y_train)\n",
    "\n",
    "#Predicting on the Test Set\n",
    "y_pred = mlrObj.predict(X_test)\n",
    "\n",
    "#Backward Elimination\n",
    "import statsmodels.api as sm\n",
    "X = np.append(arr=np.ones((30,1)).astype(int), values=X, axis=1)\n",
    "\n",
    "X_sig = X[:,[0,1,2,3,4,5]]\n",
    "obj_OLS = sm.OLS(endog = y, exog = X_sig).fit()\n",
    "obj_OLS.summary()\n",
    "\n",
    "X_sig = X[:,[0,1,3,4,5]]\n",
    "obj_OLS = sm.OLS(endog = y, exog = X_sig).fit()\n",
    "obj_OLS.summary()\n",
    "\n",
    "X_sig = X[:,[0,1,3,5]]\n",
    "obj_OLS = sm.OLS(endog = y, exog = X_sig).fit()\n",
    "obj_OLS.summary()\n",
    "\n",
    "X_sig = X[:,[0,3,5]]\n",
    "obj_OLS = sm.OLS(endog = y, exog = X_sig).fit()\n",
    "obj_OLS.summary()\n",
    "\n",
    "X_sig = X[:,[0,5]]\n",
    "obj_OLS = sm.OLS(endog = y, exog = X_sig).fit()\n",
    "obj_OLS.summary()\n",
    "\n",
    "#Splitting the data into Training Set and Test Set\n",
    "X_sig_train, X_sig_test, y_sig_train, y_sig_test = train_test_split(X_sig, y, test_size=0.2,random_state=0)\n",
    "mlrObj_sig = LinearRegression()\n",
    "mlrObj_sig.fit(X_sig_train, y_sig_train)\n",
    "y_sig_pred = mlrObj_sig.predict(X_sig_test)\n"
   ]
  },
  {
   "cell_type": "code",
   "execution_count": 19,
   "metadata": {},
   "outputs": [
    {
     "data": {
      "text/plain": [
       "array([ 63218,  93940,  91738,  61111, 116969,  46205], dtype=int64)"
      ]
     },
     "execution_count": 19,
     "metadata": {},
     "output_type": "execute_result"
    }
   ],
   "source": [
    "y_test"
   ]
  },
  {
   "cell_type": "code",
   "execution_count": 20,
   "metadata": {},
   "outputs": [
    {
     "data": {
      "text/plain": [
       "array([ 56956.92838594,  79720.72152074,  84853.31578452,  68084.27039287,\n",
       "       109846.99164966,  36777.76558929])"
      ]
     },
     "execution_count": 20,
     "metadata": {},
     "output_type": "execute_result"
    }
   ],
   "source": [
    "y_pred"
   ]
  },
  {
   "cell_type": "code",
   "execution_count": 21,
   "metadata": {},
   "outputs": [
    {
     "data": {
      "text/plain": [
       "array([ 40748.96184072, 122699.62295594,  64961.65717022,  63099.14214487,\n",
       "       115249.56285456, 107799.50275317])"
      ]
     },
     "execution_count": 21,
     "metadata": {},
     "output_type": "execute_result"
    }
   ],
   "source": [
    "y_sig_pred"
   ]
  },
  {
   "cell_type": "code",
   "execution_count": null,
   "metadata": {},
   "outputs": [],
   "source": []
  }
 ],
 "metadata": {
  "kernelspec": {
   "display_name": "Python 3",
   "language": "python",
   "name": "python3"
  },
  "language_info": {
   "codemirror_mode": {
    "name": "ipython",
    "version": 3
   },
   "file_extension": ".py",
   "mimetype": "text/x-python",
   "name": "python",
   "nbconvert_exporter": "python",
   "pygments_lexer": "ipython3",
   "version": "3.7.1"
  }
 },
 "nbformat": 4,
 "nbformat_minor": 2
}
